{
  "nbformat": 4,
  "nbformat_minor": 0,
  "metadata": {
    "colab": {
      "name": "pagina2.ipynb",
      "provenance": [],
      "authorship_tag": "ABX9TyP7uT9iQg2AqtAJfwsYYq5T",
      "include_colab_link": true
    },
    "kernelspec": {
      "name": "python3",
      "display_name": "Python 3"
    },
    "language_info": {
      "name": "python"
    }
  },
  "cells": [
    {
      "cell_type": "markdown",
      "metadata": {
        "id": "view-in-github",
        "colab_type": "text"
      },
      "source": [
        "<a href=\"https://colab.research.google.com/github/alysondv/testeTargetSistemas/blob/main/pagina2.ipynb\" target=\"_parent\"><img src=\"https://colab.research.google.com/assets/colab-badge.svg\" alt=\"Open In Colab\"/></a>"
      ]
    },
    {
      "cell_type": "markdown",
      "source": [
        "2) Dado a sequência de Fibonacci, onde se inicia por 0 e 1 e o próximo valor sempre será a soma dos 2 valores anteriores (exemplo: 0, 1, 1, 2, 3, 5, 8, 13, 21, 34...), escreva um programa na linguagem que desejar onde, informado um número, ele calcule a sequência de Fibonacci e retorne uma mensagem avisando se o número informado pertence ou não a sequência.\n",
        "\n",
        "IMPORTANTE: \n",
        "\tEsse número pode ser informado através de qualquer entrada de sua preferência ou pode ser previamente definido no código;"
      ],
      "metadata": {
        "id": "AhuvOxvFSQLh"
      }
    },
    {
      "cell_type": "code",
      "execution_count": 18,
      "metadata": {
        "colab": {
          "base_uri": "https://localhost:8080/"
        },
        "id": "34EecyxBRGtn",
        "outputId": "f51d1acf-02e3-4c31-f5f0-bb77620a24a1"
      },
      "outputs": [
        {
          "output_type": "stream",
          "name": "stdout",
          "text": [
            "55 pertence a sequência de Fibonacci!\n"
          ]
        }
      ],
      "source": [
        "def fibonacci(num):\n",
        "  n0, n1 = 0, 1\n",
        "  if(num == 0 or num == 1):\n",
        "    return f\"{num} pertence a sequência de Fibonacci!\"\n",
        "  n0, n1 = n1, n0+n1\n",
        "  while n1 < num:\n",
        "     n0, n1 = n1, n0+n1\n",
        "  if n1 == num:\n",
        "    return f\"{num} pertence a sequência de Fibonacci!\"\n",
        "  else:\n",
        "    return f\"{num} NÃO pertence a sequência de Fibonacci!\"\n",
        "\n",
        "print( fibonacci(55))\n"
      ]
    },
    {
      "cell_type": "markdown",
      "source": [
        "3) Dado um vetor que guarda o valor de faturamento diário de uma distribuidora, faça um programa, na linguagem que desejar, que calcule e retorne:\n",
        "\t• O menor valor de faturamento ocorrido em um dia do mês;\n",
        "\t• O maior valor de faturamento ocorrido em um dia do mês;\n",
        "\t• Número de dias no mês em que o valor de faturamento diário foi superior à média mensal.\n",
        "\n",
        "IMPORTANTE:\n",
        "\ta) Usar o json ou xml disponível como fonte dos dados do faturamento mensal;\n",
        "\tb) Podem existir dias sem faturamento, como nos finais de semana e feriados. Estes dias devem ser ignorados no cálculo da média;\n"
      ],
      "metadata": {
        "id": "qo2tGIGgWWUR"
      }
    },
    {
      "cell_type": "code",
      "source": [
        "import json\n",
        "\n",
        "with open('dados.json') as file:\n",
        "    dados = json.load(file)\n",
        "min = dados[0]['valor']\n",
        "max = dados[0]['valor']\n",
        "average = 0\n",
        "daysOff = 0\n",
        "for faturamento in dados:\n",
        "  if faturamento['valor'] < min and faturamento['valor'] != 0.0:\n",
        "    min = faturamento['valor']\n",
        "  if faturamento['valor'] > max and faturamento['valor'] != 0.0: \n",
        "    max = faturamento['valor']\n",
        "  if faturamento['valor'] == 0.0:\n",
        "    daysOff += 1\n",
        "  average += faturamento['valor']\n",
        "average /= (len(dados) - daysOff)\n",
        "faturamentoMaior = 0\n",
        "for faturamento in dados:\n",
        "  if faturamento['valor'] > average:\n",
        "    faturamentoMaior += 1\n",
        "\n",
        "print(f\"Menor valor de faturamento do mês: {min}\")\n",
        "print(f\"Maior valor de faturamento do mês: {max}\")\n",
        "print(f\"média mensal: {average:.4f}\")\n",
        "print(f\"quantidade de dias que o faturamento foi superior a média: {faturamentoMaior}\")\n",
        "\n"
      ],
      "metadata": {
        "colab": {
          "base_uri": "https://localhost:8080/"
        },
        "id": "VA3lkvhUWat2",
        "outputId": "e858820f-f727-44c2-b4c6-bf9c9dee2584"
      },
      "execution_count": 33,
      "outputs": [
        {
          "output_type": "stream",
          "name": "stdout",
          "text": [
            "Menor valor de faturamento do mês: 373.7838\n",
            "Maior valor de faturamento do mês: 48924.2448\n",
            "média mensal: 20865.3702\n",
            "quantidade de dias que o faturamento foi superior a média: 10\n"
          ]
        }
      ]
    },
    {
      "cell_type": "markdown",
      "source": [
        "4) Dado o valor de faturamento mensal de uma distribuidora, detalhado por estado:\n",
        "  \n",
        "  SP – R$67.836,43\n",
        "\t\n",
        "  RJ – R$36.678,66\n",
        "\t\n",
        "  MG – R$29.229,88\n",
        "\t\n",
        "  ES – R$27.165,48\n",
        "\t\n",
        "  Outros – R$19.849,53\n",
        "\n",
        "Escreva um programa na linguagem que desejar onde calcule o percentual de representação que cada estado teve dentro do valor total mensal da distribuidora."
      ],
      "metadata": {
        "id": "0mZ7mM37ceEa"
      }
    },
    {
      "cell_type": "code",
      "source": [
        "faturamento = {\"SP\": 67836.43, \"RJ\":36678.66, \"MG\":29229.88,\n",
        "               \"ES\":27165.48, \"OUTROS\":19849.53}\n",
        "total = 0\n",
        "\n",
        "for key, value in faturamento.items():\n",
        "  total += value\n",
        "percentual = {}\n",
        "print(\"Percentual de representação mensal de cada estado:\")\n",
        "for key, value in faturamento.items():\n",
        "  percentual[key] = (value / total) * 100\n",
        "  print(f\"{key} corresponde a {percentual[key]:.2f}%\")\n"
      ],
      "metadata": {
        "colab": {
          "base_uri": "https://localhost:8080/"
        },
        "id": "VUcSA1SYcgCE",
        "outputId": "462d7073-2a31-4b6f-c3aa-a1cc33194b80"
      },
      "execution_count": 39,
      "outputs": [
        {
          "output_type": "stream",
          "name": "stdout",
          "text": [
            "Percentual de representação mensal de cada estado:\n",
            "SP corresponde a 37.53%\n",
            "RJ corresponde a 20.29%\n",
            "MG corresponde a 16.17%\n",
            "ES corresponde a 15.03%\n",
            "OUTROS corresponde a 10.98%\n"
          ]
        }
      ]
    },
    {
      "cell_type": "markdown",
      "source": [
        "5) Escreva um programa que inverta os caracteres de um string.\n",
        "\n",
        "IMPORTANTE:\n",
        "\n",
        "a) Essa string pode ser informada através de qualquer entrada de sua preferência ou pode ser previamente definida no código;\n",
        "\n",
        "b) Evite usar funções prontas, como, por exemplo, reverse;"
      ],
      "metadata": {
        "id": "K9liozLPfzJH"
      }
    },
    {
      "cell_type": "code",
      "source": [
        "def inverte(frase):\n",
        "  invertida = frase[len(frase) - 1::-1]\n",
        "  print(invertida)\n",
        "\n",
        "inverte(\"Tentando ingressar na Target sistemas\")"
      ],
      "metadata": {
        "colab": {
          "base_uri": "https://localhost:8080/"
        },
        "id": "ZB70IgXFf3fi",
        "outputId": "19d96eb3-c401-4f9d-ea35-52b4b8b818d0"
      },
      "execution_count": 43,
      "outputs": [
        {
          "output_type": "stream",
          "name": "stdout",
          "text": [
            "sametsis tegraT an rassergni odnatneT\n"
          ]
        }
      ]
    }
  ]
}